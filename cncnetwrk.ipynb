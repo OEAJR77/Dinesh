{
  "cells": [
    {
      "cell_type": "markdown",
      "metadata": {
        "id": "view-in-github",
        "colab_type": "text"
      },
      "source": [
        "<a href=\"https://colab.research.google.com/github/OEAJR77/Dinesh/blob/main/cncnetwrk.ipynb\" target=\"_parent\"><img src=\"https://colab.research.google.com/assets/colab-badge.svg\" alt=\"Open In Colab\"/></a>"
      ]
    },
    {
      "cell_type": "code",
      "execution_count": null,
      "metadata": {
        "id": "VGMAoHtROH3p"
      },
      "outputs": [],
      "source": [
        "import tensorflow as tf"
      ]
    },
    {
      "cell_type": "code",
      "execution_count": null,
      "metadata": {
        "id": "EJVebqR-YR55"
      },
      "outputs": [],
      "source": [
        "from tensorflow.keras.datasets.cifar10 import load_data"
      ]
    },
    {
      "cell_type": "code",
      "execution_count": null,
      "metadata": {
        "id": "uPNMHUeRYTzp"
      },
      "outputs": [],
      "source": [
        "from tensorflow.keras.models import Sequential"
      ]
    },
    {
      "cell_type": "code",
      "execution_count": null,
      "metadata": {
        "id": "PIr-nu7uYVtY"
      },
      "outputs": [],
      "source": [
        "from tensorflow.keras.layers import Conv2D, MaxPooling2D, Flatten, Dense, Dropout\n"
      ]
    },
    {
      "cell_type": "code",
      "execution_count": null,
      "metadata": {
        "id": "Yltyy-qzYZQY"
      },
      "outputs": [],
      "source": [
        "from tensorflow.keras.utils import to_categorical"
      ]
    },
    {
      "cell_type": "code",
      "execution_count": null,
      "metadata": {
        "colab": {
          "base_uri": "https://localhost:8080/"
        },
        "id": "qT1WxnmIYkQB",
        "outputId": "9da5308f-fc52-4f70-f261-0e797be9825a"
      },
      "outputs": [
        {
          "name": "stdout",
          "output_type": "stream",
          "text": [
            "Downloading data from https://www.cs.toronto.edu/~kriz/cifar-10-python.tar.gz\n",
            "170498071/170498071 [==============================] - 3s 0us/step\n"
          ]
        }
      ],
      "source": [
        "# Load and preprocess data\n",
        "(x_train, y_train), (x_test, y_test) = load_data()\n",
        "x_train = x_train.astype('float32') / 255.0\n",
        "x_test = x_test.astype('float32') / 255.0\n",
        "y_train = to_categorical(y_train, 10)\n",
        "y_test = to_categorical(y_test, 10)"
      ]
    },
    {
      "cell_type": "code",
      "execution_count": null,
      "metadata": {
        "id": "ANxM8WgxYmno"
      },
      "outputs": [],
      "source": [
        "# Build a simple CNN model\n",
        "model = Sequential()\n",
        "model.add(Conv2D(32, (3, 3), activation='relu', input_shape=(32, 32, 3)))\n",
        "model.add(MaxPooling2D((2, 2)))\n",
        "model.add(Conv2D(64, (3, 3), activation='relu'))\n",
        "model.add(MaxPooling2D((2, 2)))\n",
        "model.add(Flatten())\n",
        "model.add(Dense(64, activation='relu'))\n",
        "model.add(Dense(10, activation='softmax'))"
      ]
    },
    {
      "cell_type": "code",
      "execution_count": null,
      "metadata": {
        "id": "4JUiq32qbP4v"
      },
      "outputs": [],
      "source": [
        "# Compile the model\n",
        "model.compile(optimizer='adam',\n",
        "              loss='categorical_crossentropy',\n",
        "              metrics=['accuracy'])"
      ]
    },
    {
      "cell_type": "code",
      "execution_count": null,
      "metadata": {
        "colab": {
          "base_uri": "https://localhost:8080/"
        },
        "id": "GYhqJHJMbUEO",
        "outputId": "74fafb10-83ef-4476-ee77-0b07f649d89b"
      },
      "outputs": [
        {
          "name": "stdout",
          "output_type": "stream",
          "text": [
            "Epoch 1/10\n",
            "625/625 [==============================] - 30s 47ms/step - loss: 1.5846 - accuracy: 0.4277 - val_loss: 1.3371 - val_accuracy: 0.5247\n",
            "Epoch 2/10\n",
            "625/625 [==============================] - 28s 44ms/step - loss: 1.2469 - accuracy: 0.5600 - val_loss: 1.2158 - val_accuracy: 0.5710\n",
            "Epoch 3/10\n",
            "625/625 [==============================] - 28s 46ms/step - loss: 1.1069 - accuracy: 0.6120 - val_loss: 1.0822 - val_accuracy: 0.6214\n",
            "Epoch 4/10\n",
            "625/625 [==============================] - 28s 44ms/step - loss: 1.0184 - accuracy: 0.6426 - val_loss: 1.0703 - val_accuracy: 0.6261\n",
            "Epoch 5/10\n",
            "625/625 [==============================] - 28s 44ms/step - loss: 0.9500 - accuracy: 0.6685 - val_loss: 1.0204 - val_accuracy: 0.6408\n",
            "Epoch 6/10\n",
            "625/625 [==============================] - 28s 46ms/step - loss: 0.9060 - accuracy: 0.6852 - val_loss: 1.0121 - val_accuracy: 0.6554\n",
            "Epoch 7/10\n",
            "625/625 [==============================] - 28s 45ms/step - loss: 0.8603 - accuracy: 0.7020 - val_loss: 0.9442 - val_accuracy: 0.6799\n",
            "Epoch 8/10\n",
            "625/625 [==============================] - 28s 44ms/step - loss: 0.8190 - accuracy: 0.7157 - val_loss: 0.9799 - val_accuracy: 0.6660\n",
            "Epoch 9/10\n",
            "625/625 [==============================] - 28s 45ms/step - loss: 0.7794 - accuracy: 0.7317 - val_loss: 0.9501 - val_accuracy: 0.6766\n",
            "Epoch 10/10\n",
            "625/625 [==============================] - 27s 44ms/step - loss: 0.7474 - accuracy: 0.7408 - val_loss: 0.9398 - val_accuracy: 0.6802\n"
          ]
        }
      ],
      "source": [
        "# Train the model\n",
        "history = model.fit(x_train, y_train, epochs=10, batch_size=64, validation_split=0.2)"
      ]
    },
    {
      "cell_type": "code",
      "execution_count": null,
      "metadata": {
        "colab": {
          "base_uri": "https://localhost:8080/"
        },
        "id": "LfoWEqS-bXUB",
        "outputId": "ee9b7faa-eea6-4004-9a82-d0c9469487cc"
      },
      "outputs": [
        {
          "name": "stdout",
          "output_type": "stream",
          "text": [
            "313/313 [==============================] - 3s 8ms/step - loss: 0.9474 - accuracy: 0.6816\n",
            "Test accuracy: 0.6815999746322632\n"
          ]
        }
      ],
      "source": [
        "# Evaluate the model on test data\n",
        "test_loss, test_acc = model.evaluate(x_test, y_test)\n",
        "print(f'Test accuracy: {test_acc}')\n"
      ]
    },
    {
      "cell_type": "code",
      "execution_count": null,
      "metadata": {
        "id": "WD_IG1XgdfM2"
      },
      "outputs": [],
      "source": [
        "import tensorflow as tf\n",
        "from tensorflow.keras.datasets import cifar10\n",
        "from tensorflow.keras.models import Sequential\n",
        "from tensorflow.keras.layers import Conv2D, MaxPooling2D, Flatten, Dense, Dropout\n",
        "from tensorflow.keras.optimizers import Adam\n",
        "from tensorflow.keras.metrics import AUC\n",
        "from tensorflow.keras.callbacks import EarlyStopping\n",
        "import time\n"
      ]
    },
    {
      "cell_type": "code",
      "execution_count": null,
      "metadata": {
        "id": "oCjCk-4BeMJV"
      },
      "outputs": [],
      "source": [
        "# Load the CIFAR-10 dataset\n",
        "(x_train, y_train), (x_test, y_test) = cifar10.load_data()\n",
        "\n",
        "# Normalize pixel values to the range [0, 1]\n",
        "x_train, x_test = x_train / 255.0, x_test / 255.0\n",
        "\n",
        "# One-hot encode the labels\n",
        "y_train = tf.keras.utils.to_categorical(y_train, 10)\n",
        "y_test = tf.keras.utils.to_categorical(y_test, 10)\n"
      ]
    },
    {
      "cell_type": "code",
      "execution_count": null,
      "metadata": {
        "id": "nJ_gh55neOWV"
      },
      "outputs": [],
      "source": [
        "def create_and_train_cnn(num_layers, num_units, epochs, learning_rate):\n",
        "    model = Sequential()\n",
        "    model.add(Conv2D(32, (3, 3), activation='relu', input_shape=(32, 32, 3)))\n",
        "\n",
        "    for _ in range(num_layers):\n",
        "        model.add(Conv2D(64, (3, 3), activation='relu'))\n",
        "        model.add(MaxPooling2D((2, 2)))\n",
        "\n",
        "    model.add(Flatten())\n",
        "\n",
        "    for _ in range(num_units):\n",
        "        model.add(Dense(128, activation='relu'))\n",
        "        model.add(Dropout(0.3))\n",
        "\n",
        "    model.add(Dense(10, activation='softmax'))\n",
        "\n",
        "    # Compile the model with customized learning rate\n",
        "    optimizer = Adam(learning_rate=learning_rate)\n",
        "    model.compile(optimizer=optimizer,\n",
        "                  loss='categorical_crossentropy',\n",
        "                  metrics=['accuracy', AUC()])\n",
        "\n",
        "    # Train the model\n",
        "    start_time = time.time()\n",
        "    history = model.fit(x_train, y_train, epochs=epochs, validation_split=0.2, callbacks=[EarlyStopping(patience=3)])\n",
        "    end_time = time.time()\n",
        "    training_time = end_time - start_time\n",
        "\n",
        "    return history, training_time\n"
      ]
    },
    {
      "cell_type": "code",
      "execution_count": null,
      "metadata": {
        "colab": {
          "background_save": true,
          "base_uri": "https://localhost:8080/"
        },
        "id": "8csoCMf7epL0",
        "outputId": "fc65c98d-74b7-4774-f5c8-ba9695ee0f0a"
      },
      "outputs": [
        {
          "name": "stdout",
          "output_type": "stream",
          "text": [
            "Training model with num_layers=2, num_units=64, epochs=20, learning_rate=0.001\n",
            "Epoch 1/20\n",
            "1250/1250 [==============================] - 130s 95ms/step - loss: 2.3032 - accuracy: 0.1004 - auc: 0.5013 - val_loss: 2.3029 - val_accuracy: 0.0977 - val_auc: 0.5007\n",
            "Epoch 2/20\n",
            "1250/1250 [==============================] - 115s 92ms/step - loss: 2.3031 - accuracy: 0.0968 - auc: 0.4982 - val_loss: 2.3028 - val_accuracy: 0.0952 - val_auc: 0.4971\n",
            "Epoch 3/20\n",
            "1250/1250 [==============================] - 114s 91ms/step - loss: 2.3028 - accuracy: 0.0970 - auc: 0.4992 - val_loss: 2.3028 - val_accuracy: 0.0977 - val_auc: 0.4970\n",
            "Epoch 4/20\n",
            "1250/1250 [==============================] - 117s 93ms/step - loss: 2.3029 - accuracy: 0.0985 - auc: 0.4975 - val_loss: 2.3029 - val_accuracy: 0.0952 - val_auc: 0.4971\n",
            "Epoch 5/20\n",
            "1250/1250 [==============================] - 115s 92ms/step - loss: 2.3028 - accuracy: 0.1006 - auc: 0.4987 - val_loss: 2.3026 - val_accuracy: 0.1016 - val_auc: 0.4996\n",
            "Epoch 6/20\n",
            "1250/1250 [==============================] - 110s 88ms/step - loss: 2.3028 - accuracy: 0.0983 - auc: 0.4982 - val_loss: 2.3027 - val_accuracy: 0.1014 - val_auc: 0.4997\n",
            "Epoch 7/20\n",
            "1250/1250 [==============================] - 110s 88ms/step - loss: 2.3028 - accuracy: 0.0992 - auc: 0.4984 - val_loss: 2.3027 - val_accuracy: 0.0977 - val_auc: 0.4961\n",
            "Epoch 8/20\n",
            "1250/1250 [==============================] - 110s 88ms/step - loss: 2.3027 - accuracy: 0.1005 - auc: 0.4992 - val_loss: 2.3028 - val_accuracy: 0.0952 - val_auc: 0.4983\n",
            "Validation accuracy: 0.0952, Training time: 922.94 seconds\n",
            "\n",
            "Training model with num_layers=2, num_units=64, epochs=20, learning_rate=0.01\n",
            "Epoch 1/20\n",
            "1250/1250 [==============================] - 122s 89ms/step - loss: 2.3048 - accuracy: 0.1007 - auc_1: 0.4986 - val_loss: 2.3045 - val_accuracy: 0.1003 - val_auc_1: 0.5001\n",
            "Epoch 2/20\n",
            "1250/1250 [==============================] - 114s 91ms/step - loss: 2.3044 - accuracy: 0.0963 - auc_1: 0.4967 - val_loss: 2.3030 - val_accuracy: 0.1016 - val_auc_1: 0.5015\n",
            "Epoch 3/20\n",
            "1250/1250 [==============================] - 111s 89ms/step - loss: 2.3041 - accuracy: 0.1005 - auc_1: 0.4979 - val_loss: 2.3038 - val_accuracy: 0.1014 - val_auc_1: 0.5017\n",
            "Epoch 4/20\n",
            "1250/1250 [==============================] - 114s 91ms/step - loss: 2.3038 - accuracy: 0.1001 - auc_1: 0.5013 - val_loss: 2.3027 - val_accuracy: 0.1016 - val_auc_1: 0.5048\n",
            "Epoch 5/20\n",
            "1250/1250 [==============================] - 111s 88ms/step - loss: 2.3040 - accuracy: 0.0980 - auc_1: 0.4970 - val_loss: 2.3041 - val_accuracy: 0.0952 - val_auc_1: 0.4978\n",
            "Epoch 6/20\n",
            "1250/1250 [==============================] - 110s 88ms/step - loss: 2.3039 - accuracy: 0.0999 - auc_1: 0.4990 - val_loss: 2.3034 - val_accuracy: 0.1025 - val_auc_1: 0.5009\n",
            "Epoch 7/20\n",
            "1250/1250 [==============================] - 113s 91ms/step - loss: 2.3040 - accuracy: 0.0971 - auc_1: 0.4971 - val_loss: 2.3042 - val_accuracy: 0.0980 - val_auc_1: 0.4964\n",
            "Validation accuracy: 0.0980, Training time: 796.62 seconds\n",
            "\n",
            "Training model with num_layers=2, num_units=64, epochs=30, learning_rate=0.001\n",
            "Epoch 1/30\n",
            "1250/1250 [==============================] - 125s 93ms/step - loss: 2.3033 - accuracy: 0.1004 - auc_2: 0.4997 - val_loss: 2.3025 - val_accuracy: 0.1016 - val_auc_2: 0.5016\n",
            "Epoch 2/30\n",
            "1250/1250 [==============================] - 112s 89ms/step - loss: 2.3029 - accuracy: 0.0966 - auc_2: 0.4978 - val_loss: 2.3027 - val_accuracy: 0.1014 - val_auc_2: 0.4968\n",
            "Epoch 3/30\n",
            "1250/1250 [==============================] - 116s 92ms/step - loss: 2.3029 - accuracy: 0.0983 - auc_2: 0.4990 - val_loss: 2.3027 - val_accuracy: 0.0952 - val_auc_2: 0.4979\n",
            "Epoch 4/30\n",
            "1250/1250 [==============================] - 112s 89ms/step - loss: 2.3028 - accuracy: 0.0993 - auc_2: 0.4958 - val_loss: 2.3027 - val_accuracy: 0.0952 - val_auc_2: 0.4962\n",
            "Validation accuracy: 0.0952, Training time: 465.59 seconds\n",
            "\n",
            "Training model with num_layers=2, num_units=64, epochs=30, learning_rate=0.01\n",
            "Epoch 1/30\n",
            "1250/1250 [==============================] - 122s 90ms/step - loss: 2.3050 - accuracy: 0.0981 - auc_3: 0.4974 - val_loss: 2.3038 - val_accuracy: 0.1025 - val_auc_3: 0.4982\n",
            "Epoch 2/30\n",
            "1250/1250 [==============================] - 109s 88ms/step - loss: 2.3040 - accuracy: 0.1007 - auc_3: 0.4985 - val_loss: 2.3029 - val_accuracy: 0.1022 - val_auc_3: 0.5018\n",
            "Epoch 3/30\n",
            "1250/1250 [==============================] - 110s 88ms/step - loss: 2.3040 - accuracy: 0.0994 - auc_3: 0.4991 - val_loss: 2.3034 - val_accuracy: 0.1025 - val_auc_3: 0.4993\n",
            "Epoch 4/30\n",
            "1250/1250 [==============================] - 110s 88ms/step - loss: 2.3042 - accuracy: 0.0973 - auc_3: 0.4958 - val_loss: 2.3034 - val_accuracy: 0.1022 - val_auc_3: 0.5003\n",
            "Epoch 5/30\n",
            "1250/1250 [==============================] - 113s 91ms/step - loss: 2.3040 - accuracy: 0.0962 - auc_3: 0.4982 - val_loss: 2.3034 - val_accuracy: 0.1022 - val_auc_3: 0.5033\n",
            "Validation accuracy: 0.1022, Training time: 564.63 seconds\n",
            "\n",
            "Training model with num_layers=2, num_units=128, epochs=20, learning_rate=0.001\n",
            "Epoch 1/20\n",
            "1250/1250 [==============================] - 151s 105ms/step - loss: 2.3033 - accuracy: 0.0987 - auc_4: 0.4971 - val_loss: 2.3027 - val_accuracy: 0.0997 - val_auc_4: 0.5009\n",
            "Epoch 2/20\n",
            "1250/1250 [==============================] - 131s 105ms/step - loss: 2.3029 - accuracy: 0.0996 - auc_4: 0.5001 - val_loss: 2.3028 - val_accuracy: 0.1014 - val_auc_4: 0.4979\n",
            "Epoch 3/20\n",
            "1250/1250 [==============================] - 131s 105ms/step - loss: 2.3028 - accuracy: 0.0992 - auc_4: 0.4980 - val_loss: 2.3029 - val_accuracy: 0.0980 - val_auc_4: 0.4949\n",
            "Epoch 4/20\n",
            "1250/1250 [==============================] - 131s 105ms/step - loss: 2.3028 - accuracy: 0.0993 - auc_4: 0.4982 - val_loss: 2.3029 - val_accuracy: 0.0952 - val_auc_4: 0.4961\n",
            "Validation accuracy: 0.0952, Training time: 545.07 seconds\n",
            "\n",
            "Training model with num_layers=2, num_units=128, epochs=20, learning_rate=0.01\n",
            "Epoch 1/20\n",
            "1250/1250 [==============================] - 149s 104ms/step - loss: nan - accuracy: 0.1001 - auc_5: 0.0567 - val_loss: nan - val_accuracy: 0.1014 - val_auc_5: 0.0000e+00\n",
            "Epoch 2/20\n",
            " 363/1250 [=======>......................] - ETA: 1:23 - loss: nan - accuracy: 0.0985 - auc_5: 0.0000e+00"
          ]
        }
      ],
      "source": [
        "# Define the hyperparameter search space\n",
        "num_layers_list = [2, 3]\n",
        "num_units_list = [64, 128]\n",
        "epochs_list = [20, 30]\n",
        "learning_rate_list = [0.001, 0.01]\n",
        "\n",
        "best_model = None\n",
        "best_val_accuracy = 0\n",
        "\n",
        "for num_layers in num_layers_list:\n",
        "    for num_units in num_units_list:\n",
        "        for epochs in epochs_list:\n",
        "            for learning_rate in learning_rate_list:\n",
        "                print(f\"Training model with num_layers={num_layers}, num_units={num_units}, epochs={epochs}, learning_rate={learning_rate}\")\n",
        "                history, training_time = create_and_train_cnn(num_layers, num_units, epochs, learning_rate)\n",
        "\n",
        "                # Evaluate the model on the validation set\n",
        "                val_accuracy = history.history['val_accuracy'][-1]\n",
        "                print(f\"Validation accuracy: {val_accuracy:.4f}, Training time: {training_time:.2f} seconds\\n\")\n",
        "\n",
        "                if val_accuracy > best_val_accuracy:\n",
        "                    best_val_accuracy = val_accuracy\n",
        "                    best_model = history.model\n"
      ]
    },
    {
      "cell_type": "code",
      "execution_count": 4,
      "metadata": {
        "id": "0CWjLZ6te6xl",
        "colab": {
          "base_uri": "https://localhost:8080/",
          "height": 210
        },
        "outputId": "f9b1a67c-a3bd-4926-a3c7-c31b52cd64cb"
      },
      "outputs": [
        {
          "output_type": "error",
          "ename": "AttributeError",
          "evalue": "ignored",
          "traceback": [
            "\u001b[0;31m---------------------------------------------------------------------------\u001b[0m",
            "\u001b[0;31mAttributeError\u001b[0m                            Traceback (most recent call last)",
            "\u001b[0;32m<ipython-input-4-7d57b25c0b32>\u001b[0m in \u001b[0;36m<cell line: 1>\u001b[0;34m()\u001b[0m\n\u001b[0;32m----> 1\u001b[0;31m \u001b[0mtest_loss\u001b[0m\u001b[0;34m,\u001b[0m \u001b[0mtest_accuracy\u001b[0m\u001b[0;34m,\u001b[0m \u001b[0mtest_auc\u001b[0m \u001b[0;34m=\u001b[0m \u001b[0mbest_model\u001b[0m\u001b[0;34m.\u001b[0m\u001b[0mevaluate\u001b[0m\u001b[0;34m(\u001b[0m\u001b[0mx_test\u001b[0m\u001b[0;34m,\u001b[0m \u001b[0my_test\u001b[0m\u001b[0;34m)\u001b[0m\u001b[0;34m\u001b[0m\u001b[0;34m\u001b[0m\u001b[0m\n\u001b[0m\u001b[1;32m      2\u001b[0m \u001b[0mprint\u001b[0m\u001b[0;34m(\u001b[0m\u001b[0;34mf\"Test accuracy: {test_accuracy:.4f}\"\u001b[0m\u001b[0;34m)\u001b[0m\u001b[0;34m\u001b[0m\u001b[0;34m\u001b[0m\u001b[0m\n\u001b[1;32m      3\u001b[0m \u001b[0mprint\u001b[0m\u001b[0;34m(\u001b[0m\u001b[0;34mf\"Test AUC: {test_auc:.4f}\"\u001b[0m\u001b[0;34m)\u001b[0m\u001b[0;34m\u001b[0m\u001b[0;34m\u001b[0m\u001b[0m\n",
            "\u001b[0;31mAttributeError\u001b[0m: 'NoneType' object has no attribute 'evaluate'"
          ]
        }
      ],
      "source": [
        "test_loss, test_accuracy, test_auc = best_model.evaluate(x_test, y_test)\n",
        "print(f\"Test accuracy: {test_accuracy:.4f}\")\n",
        "print(f\"Test AUC: {test_auc:.4f}\")\n"
      ]
    },
    {
      "cell_type": "code",
      "source": [
        "from tensorflow.keras.models import Sequential\n",
        "\n",
        "# Initialize best_model with a dummy model\n",
        "best_model = Sequential()\n",
        "\n",
        "best_val_accuracy = 0\n",
        "\n",
        "for num_layers in num_layers_list:\n",
        "    for num_units in num_units_list:\n",
        "        for epochs in epochs_list:\n",
        "            for learning_rate in learning_rate_list:\n",
        "                print(f\"Training model with num_layers={num_layers}, num_units={num_units}, epochs={epochs}, learning_rate={learning_rate}\")\n",
        "                history, training_time = create_and_train_cnn(num_layers, num_units, epochs, learning_rate)\n",
        "\n",
        "                # Evaluate the model on the validation set\n",
        "                val_accuracy = history.history['val_accuracy'][-1]\n",
        "                print(f\"Validation accuracy: {val_accuracy:.4f}, Training time: {training_time:.2f} seconds\\n\")\n",
        "\n",
        "                if val_accuracy > best_val_accuracy:\n",
        "                    best_val_accuracy = val_accuracy\n",
        "                    best_model = model  # Update best_model with the current model\n"
      ],
      "metadata": {
        "colab": {
          "base_uri": "https://localhost:8080/",
          "height": 262
        },
        "id": "KJQqaG_JVbl_",
        "outputId": "40012aa1-29e9-47bd-9587-87c5161ae422"
      },
      "execution_count": 5,
      "outputs": [
        {
          "output_type": "stream",
          "name": "stdout",
          "text": [
            "Training model with num_layers=2, num_units=64, epochs=20, learning_rate=0.001\n"
          ]
        },
        {
          "output_type": "error",
          "ename": "NameError",
          "evalue": "ignored",
          "traceback": [
            "\u001b[0;31m---------------------------------------------------------------------------\u001b[0m",
            "\u001b[0;31mNameError\u001b[0m                                 Traceback (most recent call last)",
            "\u001b[0;32m<ipython-input-5-c9ba172e0859>\u001b[0m in \u001b[0;36m<cell line: 8>\u001b[0;34m()\u001b[0m\n\u001b[1;32m     11\u001b[0m             \u001b[0;32mfor\u001b[0m \u001b[0mlearning_rate\u001b[0m \u001b[0;32min\u001b[0m \u001b[0mlearning_rate_list\u001b[0m\u001b[0;34m:\u001b[0m\u001b[0;34m\u001b[0m\u001b[0;34m\u001b[0m\u001b[0m\n\u001b[1;32m     12\u001b[0m                 \u001b[0mprint\u001b[0m\u001b[0;34m(\u001b[0m\u001b[0;34mf\"Training model with num_layers={num_layers}, num_units={num_units}, epochs={epochs}, learning_rate={learning_rate}\"\u001b[0m\u001b[0;34m)\u001b[0m\u001b[0;34m\u001b[0m\u001b[0;34m\u001b[0m\u001b[0m\n\u001b[0;32m---> 13\u001b[0;31m                 \u001b[0mhistory\u001b[0m\u001b[0;34m,\u001b[0m \u001b[0mtraining_time\u001b[0m \u001b[0;34m=\u001b[0m \u001b[0mcreate_and_train_cnn\u001b[0m\u001b[0;34m(\u001b[0m\u001b[0mnum_layers\u001b[0m\u001b[0;34m,\u001b[0m \u001b[0mnum_units\u001b[0m\u001b[0;34m,\u001b[0m \u001b[0mepochs\u001b[0m\u001b[0;34m,\u001b[0m \u001b[0mlearning_rate\u001b[0m\u001b[0;34m)\u001b[0m\u001b[0;34m\u001b[0m\u001b[0;34m\u001b[0m\u001b[0m\n\u001b[0m\u001b[1;32m     14\u001b[0m \u001b[0;34m\u001b[0m\u001b[0m\n\u001b[1;32m     15\u001b[0m                 \u001b[0;31m# Evaluate the model on the validation set\u001b[0m\u001b[0;34m\u001b[0m\u001b[0;34m\u001b[0m\u001b[0m\n",
            "\u001b[0;31mNameError\u001b[0m: name 'create_and_train_cnn' is not defined"
          ]
        }
      ]
    },
    {
      "cell_type": "code",
      "source": [
        "import tensorflow as tf\n",
        "from tensorflow.keras.datasets import cifar10\n",
        "from tensorflow.keras.models import Sequential\n",
        "from tensorflow.keras.layers import Conv2D, MaxPooling2D, Flatten, Dense, Dropout\n",
        "from tensorflow.keras.optimizers import Adam\n",
        "from tensorflow.keras.metrics import AUC\n",
        "from tensorflow.keras.callbacks import EarlyStopping\n",
        "import time\n",
        "\n",
        "# Define the create_and_train_cnn function\n",
        "def create_and_train_cnn(num_layers, num_units, epochs, learning_rate):\n",
        "    # ... (Rest of the function code)\n",
        "\n",
        "# Load and preprocess the data\n",
        "# ... (Load and preprocess data as previously mentioned)\n",
        "\n",
        "# Initialize best_model with a dummy model\n",
        "best_model = Sequential()\n",
        "\n",
        "best_val_accuracy = 0\n",
        "\n",
        "# Define the hyperparameter search space\n",
        "num_layers_list = [2, 3]\n",
        "num_units_list = [64, 128]\n",
        "epochs_list = [20, 30]\n",
        "learning_rate_list = [0.001, 0.01]\n",
        "\n",
        "for num_layers in num_layers_list:\n",
        "    for num_units in num_units_list:\n",
        "        for epochs in epochs_list:\n",
        "            for learning_rate in learning_rate_list:\n",
        "                print(f\"Training model with num_layers={num_layers}, num_units={num_units}, epochs={epochs}, learning_rate={learning_rate}\")\n",
        "                history, training_time = create_and_train_cnn(num_layers, num_units, epochs, learning_rate)\n",
        "\n",
        "                # Evaluate the model on the validation set\n",
        "                val_accuracy = history.history['val_accuracy'][-1]\n",
        "                print(f\"Validation accuracy: {val_accuracy:.4f}, Training time: {training_time:.2f} seconds\\n\")\n",
        "\n",
        "                if val_accuracy > best_val_accuracy:\n",
        "                    best_val_accuracy = val_accuracy\n",
        "                    best_model = model  # Update best_model with the current model\n"
      ],
      "metadata": {
        "colab": {
          "base_uri": "https://localhost:8080/",
          "height": 140
        },
        "id": "YkOQaUAuZDWl",
        "outputId": "c19083b4-efe4-4ea4-f7d0-8684f9ca0a21"
      },
      "execution_count": 6,
      "outputs": [
        {
          "output_type": "error",
          "ename": "IndentationError",
          "evalue": "ignored",
          "traceback": [
            "\u001b[0;36m  File \u001b[0;32m\"<ipython-input-6-15601736a99e>\"\u001b[0;36m, line \u001b[0;32m18\u001b[0m\n\u001b[0;31m    best_model = Sequential()\u001b[0m\n\u001b[0m    ^\u001b[0m\n\u001b[0;31mIndentationError\u001b[0m\u001b[0;31m:\u001b[0m expected an indented block after function definition on line 11\n"
          ]
        }
      ]
    },
    {
      "cell_type": "code",
      "source": [
        "import tensorflow as tf\n",
        "from tensorflow.keras.datasets import cifar10\n",
        "from tensorflow.keras.models import Sequential\n",
        "from tensorflow.keras.layers import Conv2D, MaxPooling2D, Flatten, Dense, Dropout\n",
        "from tensorflow.keras.optimizers import Adam\n",
        "from tensorflow.keras.metrics import AUC\n",
        "from tensorflow.keras.callbacks import EarlyStopping\n",
        "import time\n",
        "\n",
        "# Define the create_and_train_cnn function\n",
        "def create_and_train_cnn(num_layers, num_units, epochs, learning_rate):\n",
        "    # ... (Rest of the function code)\n",
        "\n",
        "# Load and preprocess the data\n",
        "# ... (Load and preprocess data as previously mentioned)\n",
        "\n",
        "# Initialize best_model with a dummy model\n",
        "best_model = Sequential()\n",
        "\n",
        "best_val_accuracy = 0\n",
        "\n",
        "# Define the hyperparameter search space\n",
        "num_layers_list = [2, 3]\n",
        "num_units_list = [64, 128]\n",
        "epochs_list = [20, 30]\n",
        "learning_rate_list = [0.001, 0.01]\n",
        "\n",
        "for num_layers in num_layers_list:\n",
        "    for num_units in num_units_list:\n",
        "        for epochs in epochs_list:\n",
        "            for learning_rate in learning_rate_list:\n",
        "                print(f\"Training model with num_layers={num_layers}, num_units={num_units}, epochs={epochs}, learning_rate={learning_rate}\")\n",
        "                history, training_time = create_and_train_cnn(num_layers, num_units, epochs, learning_rate)\n",
        "\n",
        "                # Evaluate the model on the validation set\n",
        "                val_accuracy = history.history['val_accuracy'][-1]\n",
        "                print(f\"Validation accuracy: {val_accuracy:.4f}, Training time: {training_time:.2f} seconds\\n\")\n",
        "\n",
        "                if val_accuracy > best_val_accuracy:\n",
        "                    best_val_accuracy = val_accuracy\n",
        "                    best_model = model  # Update best_model with the current model\n"
      ],
      "metadata": {
        "colab": {
          "base_uri": "https://localhost:8080/",
          "height": 140
        },
        "id": "aopeDpJiZOZn",
        "outputId": "4dc20829-acae-4166-aa3f-ad4687d7d498"
      },
      "execution_count": 7,
      "outputs": [
        {
          "output_type": "error",
          "ename": "IndentationError",
          "evalue": "ignored",
          "traceback": [
            "\u001b[0;36m  File \u001b[0;32m\"<ipython-input-7-15601736a99e>\"\u001b[0;36m, line \u001b[0;32m18\u001b[0m\n\u001b[0;31m    best_model = Sequential()\u001b[0m\n\u001b[0m    ^\u001b[0m\n\u001b[0;31mIndentationError\u001b[0m\u001b[0;31m:\u001b[0m expected an indented block after function definition on line 11\n"
          ]
        }
      ]
    },
    {
      "cell_type": "code",
      "source": [],
      "metadata": {
        "id": "rDm2857XZbur"
      },
      "execution_count": null,
      "outputs": []
    }
  ],
  "metadata": {
    "colab": {
      "provenance": [],
      "authorship_tag": "ABX9TyPT5E3ucTKqDU3S774NCoit",
      "include_colab_link": true
    },
    "kernelspec": {
      "display_name": "Python 3",
      "name": "python3"
    },
    "language_info": {
      "name": "python"
    }
  },
  "nbformat": 4,
  "nbformat_minor": 0
}